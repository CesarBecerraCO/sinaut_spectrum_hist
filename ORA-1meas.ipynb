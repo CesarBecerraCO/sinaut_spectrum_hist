{
 "cells": [
  {
   "cell_type": "code",
   "execution_count": 1,
   "metadata": {},
   "outputs": [],
   "source": [
    "from myserver import myserver\n",
    "import pandas as pd\n",
    "import json, requests\n",
    "\n",
    "def getMeas(signal, dt):\n",
    "    url = myserver + \"/ora/medida.php?med=\" + signal + \"&dd=\" + str(dt[2]) + \"&mm=\" + str(dt[1]) + \"&yyyy=\" + str(dt[0]) + \"\"\n",
    "    try:\n",
    "        response = requests.get(url).json()\n",
    "        df_med = pd.DataFrame.from_dict(response)\n",
    "        df_med['SIGNAL'] = signal\n",
    "        df_med['TIME'] = pd.to_datetime(df_med['TIME'])\n",
    "        df_med[\"VALUE\"] = df_med[\"VALUE\"].astype('float')\n",
    "        df_med[\"Q\"] = df_med[\"Q\"].astype('category')\n",
    "\n",
    "        return df_med\n",
    "    except:\n",
    "        print(\"No data\")\n",
    "        return []"
   ]
  },
  {
   "cell_type": "code",
   "execution_count": null,
   "metadata": {},
   "outputs": [],
   "source": []
  },
  {
   "cell_type": "code",
   "execution_count": 2,
   "metadata": {},
   "outputs": [],
   "source": [
    "### Ejemplo con 1 señal"
   ]
  },
  {
   "cell_type": "code",
   "execution_count": 3,
   "metadata": {},
   "outputs": [
    {
     "output_type": "execute_result",
     "data": {
      "text/plain": "                    TIME               SIGNAL    CODE  VALUE   Q\n0    2020-06-01 00:00:00  RPIEDRAS_13.8_GN1_U  268238  13.92   5\n1    2020-06-01 00:15:00  RPIEDRAS_13.8_GN1_U  268238  13.92   5\n2    2020-06-01 00:30:00  RPIEDRAS_13.8_GN1_U  268238  13.93   5\n3    2020-06-01 00:45:00  RPIEDRAS_13.8_GN1_U  268238  13.93   5\n4    2020-06-01 01:00:00  RPIEDRAS_13.8_GN1_U  268238  13.94   5\n...                  ...                  ...     ...    ...  ..\n2875 2020-06-30 22:45:00  RPIEDRAS_13.8_GN1_U  268238  13.74   5\n2876 2020-06-30 23:00:00  RPIEDRAS_13.8_GN1_U  268238  13.75  11\n2877 2020-06-30 23:15:00  RPIEDRAS_13.8_GN1_U  268238  13.76   5\n2878 2020-06-30 23:30:00  RPIEDRAS_13.8_GN1_U  268238  13.75   5\n2879 2020-06-30 23:45:00  RPIEDRAS_13.8_GN1_U  268238  13.76   5\n\n[2880 rows x 5 columns]",
      "text/html": "<div>\n<style scoped>\n    .dataframe tbody tr th:only-of-type {\n        vertical-align: middle;\n    }\n\n    .dataframe tbody tr th {\n        vertical-align: top;\n    }\n\n    .dataframe thead th {\n        text-align: right;\n    }\n</style>\n<table border=\"1\" class=\"dataframe\">\n  <thead>\n    <tr style=\"text-align: right;\">\n      <th></th>\n      <th>TIME</th>\n      <th>SIGNAL</th>\n      <th>CODE</th>\n      <th>VALUE</th>\n      <th>Q</th>\n    </tr>\n  </thead>\n  <tbody>\n    <tr>\n      <th>0</th>\n      <td>2020-06-01 00:00:00</td>\n      <td>RPIEDRAS_13.8_GN1_U</td>\n      <td>268238</td>\n      <td>13.92</td>\n      <td>5</td>\n    </tr>\n    <tr>\n      <th>1</th>\n      <td>2020-06-01 00:15:00</td>\n      <td>RPIEDRAS_13.8_GN1_U</td>\n      <td>268238</td>\n      <td>13.92</td>\n      <td>5</td>\n    </tr>\n    <tr>\n      <th>2</th>\n      <td>2020-06-01 00:30:00</td>\n      <td>RPIEDRAS_13.8_GN1_U</td>\n      <td>268238</td>\n      <td>13.93</td>\n      <td>5</td>\n    </tr>\n    <tr>\n      <th>3</th>\n      <td>2020-06-01 00:45:00</td>\n      <td>RPIEDRAS_13.8_GN1_U</td>\n      <td>268238</td>\n      <td>13.93</td>\n      <td>5</td>\n    </tr>\n    <tr>\n      <th>4</th>\n      <td>2020-06-01 01:00:00</td>\n      <td>RPIEDRAS_13.8_GN1_U</td>\n      <td>268238</td>\n      <td>13.94</td>\n      <td>5</td>\n    </tr>\n    <tr>\n      <th>...</th>\n      <td>...</td>\n      <td>...</td>\n      <td>...</td>\n      <td>...</td>\n      <td>...</td>\n    </tr>\n    <tr>\n      <th>2875</th>\n      <td>2020-06-30 22:45:00</td>\n      <td>RPIEDRAS_13.8_GN1_U</td>\n      <td>268238</td>\n      <td>13.74</td>\n      <td>5</td>\n    </tr>\n    <tr>\n      <th>2876</th>\n      <td>2020-06-30 23:00:00</td>\n      <td>RPIEDRAS_13.8_GN1_U</td>\n      <td>268238</td>\n      <td>13.75</td>\n      <td>11</td>\n    </tr>\n    <tr>\n      <th>2877</th>\n      <td>2020-06-30 23:15:00</td>\n      <td>RPIEDRAS_13.8_GN1_U</td>\n      <td>268238</td>\n      <td>13.76</td>\n      <td>5</td>\n    </tr>\n    <tr>\n      <th>2878</th>\n      <td>2020-06-30 23:30:00</td>\n      <td>RPIEDRAS_13.8_GN1_U</td>\n      <td>268238</td>\n      <td>13.75</td>\n      <td>5</td>\n    </tr>\n    <tr>\n      <th>2879</th>\n      <td>2020-06-30 23:45:00</td>\n      <td>RPIEDRAS_13.8_GN1_U</td>\n      <td>268238</td>\n      <td>13.76</td>\n      <td>5</td>\n    </tr>\n  </tbody>\n</table>\n<p>2880 rows × 5 columns</p>\n</div>"
     },
     "metadata": {},
     "execution_count": 3
    }
   ],
   "source": [
    "t=[2020, 6, 0]\n",
    "df = getMeas('RPIEDRAS_13.8_GN1_U', t)\n",
    "df"
   ]
  },
  {
   "cell_type": "code",
   "execution_count": null,
   "metadata": {},
   "outputs": [],
   "source": []
  },
  {
   "cell_type": "code",
   "execution_count": 4,
   "metadata": {},
   "outputs": [],
   "source": [
    "### Ejemplo con N señales"
   ]
  },
  {
   "cell_type": "code",
   "execution_count": 5,
   "metadata": {},
   "outputs": [],
   "source": [
    "signals = [\n",
    "'RPIEDRAS_13.8_GN1_P',\n",
    "'RPIEDRAS_13.8_GN1_Q'\n",
    "]"
   ]
  },
  {
   "cell_type": "code",
   "execution_count": 6,
   "metadata": {},
   "outputs": [],
   "source": [
    "t=[2020, 6, 24]\n",
    "df_medidas = pd.DataFrame()\n",
    "\n",
    "for s in signals:\n",
    "    df = getMeas(s, t)\n",
    "    df_medidas = df_medidas.append(df, ignore_index = True)"
   ]
  },
  {
   "cell_type": "code",
   "execution_count": 7,
   "metadata": {},
   "outputs": [
    {
     "output_type": "execute_result",
     "data": {
      "text/plain": "                   TIME               SIGNAL    CODE  VALUE  Q\n0   2020-06-24 00:00:00  RPIEDRAS_13.8_GN1_P  268235   8.25  9\n1   2020-06-24 00:15:00  RPIEDRAS_13.8_GN1_P  268235   7.63  9\n2   2020-06-24 00:30:00  RPIEDRAS_13.8_GN1_P  268235   7.43  9\n3   2020-06-24 00:45:00  RPIEDRAS_13.8_GN1_P  268235   7.04  9\n4   2020-06-24 01:00:00  RPIEDRAS_13.8_GN1_P  268235   7.06  9\n..                  ...                  ...     ...    ... ..\n187 2020-06-24 22:45:00  RPIEDRAS_13.8_GN1_Q  268236   0.63  9\n188 2020-06-24 23:00:00  RPIEDRAS_13.8_GN1_Q  268236   0.67  9\n189 2020-06-24 23:15:00  RPIEDRAS_13.8_GN1_Q  268236   0.63  9\n190 2020-06-24 23:30:00  RPIEDRAS_13.8_GN1_Q  268236   0.63  9\n191 2020-06-24 23:45:00  RPIEDRAS_13.8_GN1_Q  268236   0.64  9\n\n[192 rows x 5 columns]",
      "text/html": "<div>\n<style scoped>\n    .dataframe tbody tr th:only-of-type {\n        vertical-align: middle;\n    }\n\n    .dataframe tbody tr th {\n        vertical-align: top;\n    }\n\n    .dataframe thead th {\n        text-align: right;\n    }\n</style>\n<table border=\"1\" class=\"dataframe\">\n  <thead>\n    <tr style=\"text-align: right;\">\n      <th></th>\n      <th>TIME</th>\n      <th>SIGNAL</th>\n      <th>CODE</th>\n      <th>VALUE</th>\n      <th>Q</th>\n    </tr>\n  </thead>\n  <tbody>\n    <tr>\n      <th>0</th>\n      <td>2020-06-24 00:00:00</td>\n      <td>RPIEDRAS_13.8_GN1_P</td>\n      <td>268235</td>\n      <td>8.25</td>\n      <td>9</td>\n    </tr>\n    <tr>\n      <th>1</th>\n      <td>2020-06-24 00:15:00</td>\n      <td>RPIEDRAS_13.8_GN1_P</td>\n      <td>268235</td>\n      <td>7.63</td>\n      <td>9</td>\n    </tr>\n    <tr>\n      <th>2</th>\n      <td>2020-06-24 00:30:00</td>\n      <td>RPIEDRAS_13.8_GN1_P</td>\n      <td>268235</td>\n      <td>7.43</td>\n      <td>9</td>\n    </tr>\n    <tr>\n      <th>3</th>\n      <td>2020-06-24 00:45:00</td>\n      <td>RPIEDRAS_13.8_GN1_P</td>\n      <td>268235</td>\n      <td>7.04</td>\n      <td>9</td>\n    </tr>\n    <tr>\n      <th>4</th>\n      <td>2020-06-24 01:00:00</td>\n      <td>RPIEDRAS_13.8_GN1_P</td>\n      <td>268235</td>\n      <td>7.06</td>\n      <td>9</td>\n    </tr>\n    <tr>\n      <th>...</th>\n      <td>...</td>\n      <td>...</td>\n      <td>...</td>\n      <td>...</td>\n      <td>...</td>\n    </tr>\n    <tr>\n      <th>187</th>\n      <td>2020-06-24 22:45:00</td>\n      <td>RPIEDRAS_13.8_GN1_Q</td>\n      <td>268236</td>\n      <td>0.63</td>\n      <td>9</td>\n    </tr>\n    <tr>\n      <th>188</th>\n      <td>2020-06-24 23:00:00</td>\n      <td>RPIEDRAS_13.8_GN1_Q</td>\n      <td>268236</td>\n      <td>0.67</td>\n      <td>9</td>\n    </tr>\n    <tr>\n      <th>189</th>\n      <td>2020-06-24 23:15:00</td>\n      <td>RPIEDRAS_13.8_GN1_Q</td>\n      <td>268236</td>\n      <td>0.63</td>\n      <td>9</td>\n    </tr>\n    <tr>\n      <th>190</th>\n      <td>2020-06-24 23:30:00</td>\n      <td>RPIEDRAS_13.8_GN1_Q</td>\n      <td>268236</td>\n      <td>0.63</td>\n      <td>9</td>\n    </tr>\n    <tr>\n      <th>191</th>\n      <td>2020-06-24 23:45:00</td>\n      <td>RPIEDRAS_13.8_GN1_Q</td>\n      <td>268236</td>\n      <td>0.64</td>\n      <td>9</td>\n    </tr>\n  </tbody>\n</table>\n<p>192 rows × 5 columns</p>\n</div>"
     },
     "metadata": {},
     "execution_count": 7
    }
   ],
   "source": [
    "df_medidas"
   ]
  },
  {
   "cell_type": "code",
   "execution_count": 8,
   "metadata": {},
   "outputs": [],
   "source": [
    "df_medidas.to_clipboard(excel=True, index=False, header=True)"
   ]
  },
  {
   "cell_type": "code",
   "execution_count": null,
   "metadata": {},
   "outputs": [],
   "source": []
  }
 ],
 "metadata": {
  "kernelspec": {
   "display_name": "Python 3.8.1 64-bit ('py38': conda)",
   "language": "python",
   "name": "python_defaultSpec_1594408246686"
  },
  "language_info": {
   "codemirror_mode": {
    "name": "ipython",
    "version": 3
   },
   "file_extension": ".py",
   "mimetype": "text/x-python",
   "name": "python",
   "nbconvert_exporter": "python",
   "pygments_lexer": "ipython3",
   "version": "3.8.1"
  }
 },
 "nbformat": 4,
 "nbformat_minor": 2
}